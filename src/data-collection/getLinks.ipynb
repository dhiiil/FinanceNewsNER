{
 "cells": [
  {
   "cell_type": "code",
   "execution_count": 23,
   "metadata": {},
   "outputs": [],
   "source": [
    "from bs4 import BeautifulSoup\n",
    "from dotenv import load_dotenv\n",
    "import pandas as pd\n",
    "import requests\n",
    "import os"
   ]
  },
  {
   "cell_type": "code",
   "execution_count": 24,
   "metadata": {},
   "outputs": [],
   "source": [
    "load_dotenv()\n",
    "BASE_URL = os.getenv(\"BASE_URL\")"
   ]
  },
  {
   "cell_type": "code",
   "execution_count": 27,
   "metadata": {},
   "outputs": [
    {
     "name": "stdout",
     "output_type": "stream",
     "text": [
      "Mengambil dari halaman : 1\n",
      "Mengambil dari halaman : 2\n",
      "Mengambil dari halaman : 3\n",
      "Mengambil dari halaman : 4\n",
      "Mengambil dari halaman : 5\n",
      "Mengambil dari halaman : 6\n",
      "Mengambil dari halaman : 7\n",
      "Mengambil dari halaman : 8\n",
      "Mengambil dari halaman : 9\n",
      "Mengambil dari halaman : 10\n"
     ]
    }
   ],
   "source": [
    "sub_url = []\n",
    "num_pages = 10\n",
    "\n",
    "for page in range(1, num_pages+1):\n",
    "    url  = f\"{BASE_URL}?page={page}\"\n",
    "    \n",
    "    response = requests.get(url)\n",
    "\n",
    "    if response.status_code == 200:\n",
    "        soup = BeautifulSoup(response.content, \"html.parser\")\n",
    "\n",
    "        links = soup.find_all(\"a\", href=lambda href: href and \"/read\" in href)\n",
    "\n",
    "        print(f\"Mengambil dari halaman : {page}\")\n",
    "        for link in links :\n",
    "            sub_url.append(link['href'])\n",
    "\n",
    "    else:\n",
    "        print(f\"Gagal mengakses halaman {page}:\", response.status_code)"
   ]
  },
  {
   "cell_type": "code",
   "execution_count": 28,
   "metadata": {},
   "outputs": [],
   "source": [
    "sub_url = list(set(sub_url))"
   ]
  },
  {
   "cell_type": "code",
   "execution_count": 29,
   "metadata": {},
   "outputs": [],
   "source": [
    "df_link = pd.DataFrame(sub_url, columns=['links'])"
   ]
  },
  {
   "cell_type": "code",
   "execution_count": 30,
   "metadata": {},
   "outputs": [],
   "source": [
    "df_link.to_csv('../../data/link.csv', index=False)"
   ]
  }
 ],
 "metadata": {
  "kernelspec": {
   "display_name": "Python 3",
   "language": "python",
   "name": "python3"
  },
  "language_info": {
   "codemirror_mode": {
    "name": "ipython",
    "version": 3
   },
   "file_extension": ".py",
   "mimetype": "text/x-python",
   "name": "python",
   "nbconvert_exporter": "python",
   "pygments_lexer": "ipython3",
   "version": "3.12.4"
  }
 },
 "nbformat": 4,
 "nbformat_minor": 2
}
