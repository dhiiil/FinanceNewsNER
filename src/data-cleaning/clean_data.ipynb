{
 "cells": [
  {
   "cell_type": "code",
   "execution_count": 114,
   "metadata": {},
   "outputs": [],
   "source": [
    "import pandas as pd\n",
    "import os\n",
    "import re\n",
    "import csv"
   ]
  },
  {
   "cell_type": "code",
   "execution_count": 115,
   "metadata": {},
   "outputs": [],
   "source": [
    "raw_path = 'file.csv'\n",
    "clean_path = \"./../../data/clean/cleaned_news_unlabeled.csv\"\n",
    "splitted_path = \"./../../data/clean/splitted/\"\n",
    "\n",
    "data=pd.read_csv(\"./../../data/news_unlabeled.csv\")"
   ]
  },
  {
   "cell_type": "code",
   "execution_count": 116,
   "metadata": {},
   "outputs": [],
   "source": [
    "data['sentence'] = data['sentence'].str.replace(r'https?://[^\\s]+', lambda x: x.group(0).replace('.', 'DOT'), regex=True)\n",
    "data_cleaned = data['sentence'].str.replace(r'[^\\w\\s\\+\\/\\.\\-\\:]', '', regex=True)\n",
    "data_cleaned = data_cleaned.str.replace(r'DOT', '.', regex=False)\n",
    "\n",
    "data_cleaned = data_cleaned.str.replace(r'(?i)\\b(jakarta\\s+kompas\\.com|kompas\\.com\\s*-|kompas\\.com\\s+|\\bkompas\\.com\\b)\\b', '', regex=True)\n",
    "\n",
    "data_cleaned = data_cleaned.str.replace(r'^[\\s\\-/]+', '', regex=True)\n",
    "\n",
    "data_cleaned = data_cleaned.str.replace(r'\\bsumber\\s+(https?:[^\\s]+|www\\.[^\\s]+)|https?:[^\\s]+|www\\.[^\\s]+', '', regex=True)"
   ]
  },
  {
   "cell_type": "code",
   "execution_count": 117,
   "metadata": {},
   "outputs": [],
   "source": [
    "data_cleaned = data_cleaned.fillna('')\n",
    "data_cleaned = data_cleaned[data_cleaned.str.strip() != '']"
   ]
  },
  {
   "cell_type": "code",
   "execution_count": 118,
   "metadata": {},
   "outputs": [
    {
     "name": "stdout",
     "output_type": "stream",
     "text": [
      "File berhasil dibersihkan dan disimpan di: ./../../data/clean/cleaned_news_unlabeled.csv\n"
     ]
    }
   ],
   "source": [
    "os.makedirs(os.path.dirname(clean_path), exist_ok=True)\n",
    "data_cleaned.to_csv(clean_path, index=False)\n",
    "print(f\"File berhasil dibersihkan dan disimpan di: {clean_path}\")"
   ]
  },
  {
   "cell_type": "markdown",
   "metadata": {},
   "source": [
    "## Split CSV for labelling"
   ]
  },
  {
   "cell_type": "code",
   "execution_count": 119,
   "metadata": {},
   "outputs": [
    {
     "name": "stdout",
     "output_type": "stream",
     "text": [
      "File untuk kenzie berhasil disimpan di: ./../../data/clean/splitted\\unlabeled_kenzie.csv\n",
      "File untuk naufal berhasil disimpan di: ./../../data/clean/splitted\\unlabeled_naufal.csv\n",
      "File untuk hafiz berhasil disimpan di: ./../../data/clean/splitted\\unlabeled_hafiz.csv\n",
      "File untuk satrio berhasil disimpan di: ./../../data/clean/splitted\\unlabeled_satrio.csv\n"
     ]
    }
   ],
   "source": [
    "split_size = len(data_cleaned) // 4\n",
    "names = ['kenzie', 'naufal', 'hafiz', 'satrio']\n",
    "for i, name in enumerate(names):\n",
    "    start_idx = i * split_size\n",
    "    if i == len(names) - 1:  \n",
    "        end_idx = len(data_cleaned)\n",
    "    else:\n",
    "        end_idx = (i + 1) * split_size\n",
    "    \n",
    "    split_data = data_cleaned.iloc[start_idx:end_idx]\n",
    "    os.makedirs(os.path.dirname(splitted_path), exist_ok=True)\n",
    "    split_file_path = os.path.join(os.path.dirname(splitted_path), f\"unlabeled_{name}.csv\")\n",
    "    split_data.to_csv(split_file_path, index=False)\n",
    "    print(f\"File untuk {name} berhasil disimpan di: {split_file_path}\")"
   ]
  }
 ],
 "metadata": {
  "kernelspec": {
   "display_name": "Python 3",
   "language": "python",
   "name": "python3"
  },
  "language_info": {
   "codemirror_mode": {
    "name": "ipython",
    "version": 3
   },
   "file_extension": ".py",
   "mimetype": "text/x-python",
   "name": "python",
   "nbconvert_exporter": "python",
   "pygments_lexer": "ipython3",
   "version": "3.11.9"
  },
  "orig_nbformat": 4
 },
 "nbformat": 4,
 "nbformat_minor": 2
}
