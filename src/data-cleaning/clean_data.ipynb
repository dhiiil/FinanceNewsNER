{
 "cells": [
  {
   "cell_type": "code",
   "execution_count": 126,
   "metadata": {},
   "outputs": [],
   "source": [
    "import pandas as pd\n",
    "import os\n",
    "import re"
   ]
  },
  {
   "cell_type": "code",
   "execution_count": 127,
   "metadata": {},
   "outputs": [],
   "source": [
    "raw_path = 'file.csv'\n",
    "clean_path = \"./../../data/clean/cleaned_news_unlabeled.csv\"\n",
    "\n",
    "data=pd.read_csv(\"./../../data/news_unlabeled.csv\")\n"
   ]
  },
  {
   "cell_type": "code",
   "execution_count": 128,
   "metadata": {},
   "outputs": [
    {
     "data": {
      "text/plain": [
       "'BERBICARA mengenai pertumbuhan ekonomi salah satu tantangan terbesar adalah bagaimana mewujudkan pertumbuhan inklusif'"
      ]
     },
     "execution_count": 128,
     "metadata": {},
     "output_type": "execute_result"
    }
   ],
   "source": [
    "data_cleaned = data['sentence'].str.replace(r'[^\\w\\s/]', '', regex=True)\n",
    "data_cleaned[2]"
   ]
  },
  {
   "cell_type": "code",
   "execution_count": 129,
   "metadata": {},
   "outputs": [
    {
     "name": "stdout",
     "output_type": "stream",
     "text": [
      "File berhasil dibersihkan dan disimpan di: ./../../data/clean/cleaned_news_unlabeled.csv\n"
     ]
    }
   ],
   "source": [
    "os.makedirs(os.path.dirname(clean_path), exist_ok=True)\n",
    "data_cleaned.to_csv(clean_path, index=False)\n",
    "print(f\"File berhasil dibersihkan dan disimpan di: {clean_path}\")"
   ]
  }
 ],
 "metadata": {
  "kernelspec": {
   "display_name": "Python 3",
   "language": "python",
   "name": "python3"
  },
  "language_info": {
   "codemirror_mode": {
    "name": "ipython",
    "version": 3
   },
   "file_extension": ".py",
   "mimetype": "text/x-python",
   "name": "python",
   "nbconvert_exporter": "python",
   "pygments_lexer": "ipython3",
   "version": "3.12.0"
  },
  "orig_nbformat": 4
 },
 "nbformat": 4,
 "nbformat_minor": 2
}
