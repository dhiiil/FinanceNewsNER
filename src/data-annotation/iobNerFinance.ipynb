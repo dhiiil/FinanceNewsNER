{
 "cells": [
  {
   "cell_type": "code",
   "execution_count": 52,
   "metadata": {},
   "outputs": [],
   "source": [
    "from nltk.chunk import RegexpParser\n",
    "import pandas as pd\n",
    "import nltk\n",
    "import re"
   ]
  },
  {
   "cell_type": "code",
   "execution_count": 46,
   "metadata": {},
   "outputs": [],
   "source": [
    "# path list\n",
    "wordlist_path1 = '../../data/wordlist/asset_classes.txt'\n",
    "wordlist_path2 = '../../data/wordlist/economic_indicators.txt'\n",
    "news_data_path = '../../data/annotated/nlp_id_result.csv'"
   ]
  },
  {
   "cell_type": "code",
   "execution_count": 44,
   "metadata": {},
   "outputs": [],
   "source": [
    "with open(wordlist_path1, 'r') as file:\n",
    "    asset_classes = file.read().splitlines()\n",
    "\n",
    "with open(wordlist_path2, 'r') as file:\n",
    "    economic_indicator = file.read().splitlines()"
   ]
  },
  {
   "cell_type": "code",
   "execution_count": 45,
   "metadata": {},
   "outputs": [],
   "source": [
    "grammar = r\"\"\"\n",
    "  PERSON: <VB.*>{<NNP>}\n",
    "          <NNP>{3}{<NNP>{1,2}}\n",
    "          {<NNP>{1,2}}<VB>\n",
    "          <IN>{<NNP>{1,2}}\n",
    "  LOCATION: <IN>{<NNP>+}\n",
    "  ORGANIZATION: {<NNP>+<CC>{0,1}<NNP>{1,2}}\n",
    "                {<NNP>{3}}<NNP>{1,2}\n",
    "  CURRENCY: {<SYM><NUM>+}\n",
    "            {<SYM><NUM><NNP>}\n",
    "  EVENT: {<NNP>+<NUM>}\n",
    "  PERCENTAGE: {<NUM><SYM>}\n",
    "  DATE: <IN>{<NUM>{0,1}<NNP>{0,1}<NUM>{4}}\n",
    "\"\"\""
   ]
  },
  {
   "cell_type": "code",
   "execution_count": 49,
   "metadata": {},
   "outputs": [
    {
     "data": {
      "text/html": [
       "<div>\n",
       "<style scoped>\n",
       "    .dataframe tbody tr th:only-of-type {\n",
       "        vertical-align: middle;\n",
       "    }\n",
       "\n",
       "    .dataframe tbody tr th {\n",
       "        vertical-align: top;\n",
       "    }\n",
       "\n",
       "    .dataframe thead th {\n",
       "        text-align: right;\n",
       "    }\n",
       "</style>\n",
       "<table border=\"1\" class=\"dataframe\">\n",
       "  <thead>\n",
       "    <tr style=\"text-align: right;\">\n",
       "      <th></th>\n",
       "      <th>Unnamed: 0</th>\n",
       "      <th>sentence</th>\n",
       "      <th>pos_tag</th>\n",
       "    </tr>\n",
       "  </thead>\n",
       "  <tbody>\n",
       "    <tr>\n",
       "      <th>0</th>\n",
       "      <td>0</td>\n",
       "      <td>Tantangan Ketimpangan Ekonomi</td>\n",
       "      <td>[('Tantangan', np.str_('NN')), ('Ketimpangan',...</td>\n",
       "    </tr>\n",
       "    <tr>\n",
       "      <th>1</th>\n",
       "      <td>1</td>\n",
       "      <td>Doktor ekonomi dari UNU-MERIT/Maastricht Unive...</td>\n",
       "      <td>[('Doktor', np.str_('NN')), ('ekonomi', np.str...</td>\n",
       "    </tr>\n",
       "    <tr>\n",
       "      <th>2</th>\n",
       "      <td>2</td>\n",
       "      <td>Alumni generasi pertama beasiswa LPDP master-d...</td>\n",
       "      <td>[('Alumni', np.str_('NNP')), ('generasi', np.s...</td>\n",
       "    </tr>\n",
       "    <tr>\n",
       "      <th>3</th>\n",
       "      <td>3</td>\n",
       "      <td>Pernah bekerja di ASEAN Secretariat Indonesia ...</td>\n",
       "      <td>[('Pernah', np.str_('ADV')), ('bekerja', np.st...</td>\n",
       "    </tr>\n",
       "    <tr>\n",
       "      <th>4</th>\n",
       "      <td>4</td>\n",
       "      <td>Saat ini berkiprah sebagai akademisi peneliti ...</td>\n",
       "      <td>[('Saat', np.str_('SC')), ('ini', np.str_('DT'...</td>\n",
       "    </tr>\n",
       "    <tr>\n",
       "      <th>...</th>\n",
       "      <td>...</td>\n",
       "      <td>...</td>\n",
       "      <td>...</td>\n",
       "    </tr>\n",
       "    <tr>\n",
       "      <th>2800</th>\n",
       "      <td>2800</td>\n",
       "      <td>Koordinasi dilakukan oleh salah satu keluarga.</td>\n",
       "      <td>[('Koordinasi', np.str_('NN')), ('dilakukan', ...</td>\n",
       "    </tr>\n",
       "    <tr>\n",
       "      <th>2801</th>\n",
       "      <td>2801</td>\n",
       "      <td>Singapura Dubai Hong Kong sudah mempratikkan k...</td>\n",
       "      <td>[('Singapura', np.str_('NNP')), ('Dubai', np.s...</td>\n",
       "    </tr>\n",
       "    <tr>\n",
       "      <th>2802</th>\n",
       "      <td>2802</td>\n",
       "      <td>Untuk mendirikan satu Family Office biaya yang...</td>\n",
       "      <td>[('Untuk', np.str_('SC')), ('mendirikan', np.s...</td>\n",
       "    </tr>\n",
       "    <tr>\n",
       "      <th>2803</th>\n",
       "      <td>2803</td>\n",
       "      <td>Ini  berarti bahwa untuk keluarga dengan aset ...</td>\n",
       "      <td>[('Ini', np.str_('PR')), ('berarti', np.str_('...</td>\n",
       "    </tr>\n",
       "    <tr>\n",
       "      <th>2804</th>\n",
       "      <td>2804</td>\n",
       "      <td>Sejak Juli 2024 Pemerintah RI sudah membentuk ...</td>\n",
       "      <td>[('Sejak', np.str_('SC')), ('Juli', np.str_('N...</td>\n",
       "    </tr>\n",
       "  </tbody>\n",
       "</table>\n",
       "<p>2805 rows × 3 columns</p>\n",
       "</div>"
      ],
      "text/plain": [
       "      Unnamed: 0                                           sentence  \\\n",
       "0              0                      Tantangan Ketimpangan Ekonomi   \n",
       "1              1  Doktor ekonomi dari UNU-MERIT/Maastricht Unive...   \n",
       "2              2  Alumni generasi pertama beasiswa LPDP master-d...   \n",
       "3              3  Pernah bekerja di ASEAN Secretariat Indonesia ...   \n",
       "4              4  Saat ini berkiprah sebagai akademisi peneliti ...   \n",
       "...          ...                                                ...   \n",
       "2800        2800     Koordinasi dilakukan oleh salah satu keluarga.   \n",
       "2801        2801  Singapura Dubai Hong Kong sudah mempratikkan k...   \n",
       "2802        2802  Untuk mendirikan satu Family Office biaya yang...   \n",
       "2803        2803  Ini  berarti bahwa untuk keluarga dengan aset ...   \n",
       "2804        2804  Sejak Juli 2024 Pemerintah RI sudah membentuk ...   \n",
       "\n",
       "                                                pos_tag  \n",
       "0     [('Tantangan', np.str_('NN')), ('Ketimpangan',...  \n",
       "1     [('Doktor', np.str_('NN')), ('ekonomi', np.str...  \n",
       "2     [('Alumni', np.str_('NNP')), ('generasi', np.s...  \n",
       "3     [('Pernah', np.str_('ADV')), ('bekerja', np.st...  \n",
       "4     [('Saat', np.str_('SC')), ('ini', np.str_('DT'...  \n",
       "...                                                 ...  \n",
       "2800  [('Koordinasi', np.str_('NN')), ('dilakukan', ...  \n",
       "2801  [('Singapura', np.str_('NNP')), ('Dubai', np.s...  \n",
       "2802  [('Untuk', np.str_('SC')), ('mendirikan', np.s...  \n",
       "2803  [('Ini', np.str_('PR')), ('berarti', np.str_('...  \n",
       "2804  [('Sejak', np.str_('SC')), ('Juli', np.str_('N...  \n",
       "\n",
       "[2805 rows x 3 columns]"
      ]
     },
     "execution_count": 49,
     "metadata": {},
     "output_type": "execute_result"
    }
   ],
   "source": [
    "news_data = pd.read_csv(news_data_path)\n",
    "news_data"
   ]
  },
  {
   "cell_type": "code",
   "execution_count": 75,
   "metadata": {},
   "outputs": [
    {
     "name": "stdout",
     "output_type": "stream",
     "text": [
      "[('Doktor', np.str_('NN')), ('ekonomi', np.str_('NN')), ('dari', np.str_('IN')), ('UNU-MERIT', np.str_('NNP')), ('/', 'SYM'), ('Maastricht', np.str_('NNP')), ('University', np.str_('NNP')), ('Belanda', np.str_('NNP')), ('.', 'SYM')]\n",
      "['Doktor', 'NN', 'ekonomi', 'NN', 'dari', 'IN', 'UNU-MERIT', 'NNP', '/', 'SYM', 'Maastricht', 'NNP', 'University', 'NNP', 'Belanda', 'NNP', '.', 'SYM']\n"
     ]
    }
   ],
   "source": [
    "pattern = r'\\'(\\S+)\\''\n",
    "sample = news_data['pos_tag'].iloc[1]\n",
    "result = re.findall(pattern, sample)\n",
    "print(sample)\n",
    "print(result)"
   ]
  },
  {
   "cell_type": "code",
   "execution_count": 31,
   "metadata": {},
   "outputs": [
    {
     "name": "stdout",
     "output_type": "stream",
     "text": [
      "                                                                                                                            S                                                                                                                                                        \n",
      "      ______________________________________________________________________________________________________________________|_____________________________________________________________________________________________________________________________                            \n",
      "     |         |        |         |         |        |         |        |       |       |       |       |         |         |        |        |         |       |         |         |    PERSON            LOCATION                                    LOCATION                      \n",
      "     |         |        |         |         |        |         |        |       |       |       |       |         |         |        |        |         |       |         |         |      |          ________|__________            _____________________|____________________       \n",
      "Jakarta/NNP tidak/RB hanya/RB menjadi/VB kota/NN global/JJ tetapi/CC juga/RB kota/NN yang/IN adil/JJ bagi/IN semuanya/NN ujar/VB Kamil/NNP dalam/IN ketiga/JJ di/IN 17/11/2024/NUM ./. Ridwan/NNP debat/NN          Pilkada/NNP Hotel/NNP Sultan/NNP Jakarta/NNP Pusat/NNP Minggu/NNP\n",
      "\n",
      "[('Jakarta', 'O'), ('tidak', 'O'), ('hanya', 'O'), ('menjadi', 'O'), ('kota', 'O'), ('global', 'O'), ('tetapi', 'O'), ('juga', 'O'), ('kota', 'O'), ('yang', 'O'), ('adil', 'O'), ('bagi', 'O'), ('semuanya', 'O'), ('ujar', 'O'), ('Ridwan', 'B-PERSON'), ('Kamil', 'O'), ('dalam', 'O'), ('debat', 'B-LOCATION'), ('Pilkada', 'I-LOCATION'), ('ketiga', 'O'), ('di', 'O'), ('Hotel', 'B-LOCATION'), ('Sultan', 'I-LOCATION'), ('Jakarta', 'I-LOCATION'), ('Pusat', 'I-LOCATION'), ('Minggu', 'I-LOCATION'), ('17/11/2024', 'O'), ('.', 'O')]\n"
     ]
    }
   ],
   "source": [
    "# Kalimat POS tagging\n",
    "sentence = [\n",
    "    ('Jakarta', 'NNP'), ('tidak', 'RB'), ('hanya', 'RB'), ('menjadi', 'VB'),\n",
    "    ('kota', 'NN'), ('global', 'JJ'), ('tetapi', 'CC'), ('juga', 'RB'),\n",
    "    ('kota', 'NN'), ('yang', 'IN'), ('adil', 'JJ'), ('bagi', 'IN'),\n",
    "    ('semuanya', 'NN'), ('ujar', 'VB'), ('Ridwan', 'NNP'), ('Kamil', 'NNP'),\n",
    "    ('dalam', 'IN'), ('debat', 'NN'), ('Pilkada', 'NNP'), ('ketiga', 'JJ'),\n",
    "    ('di', 'IN'), ('Hotel', 'NNP'), ('Sultan', 'NNP'), ('Jakarta', 'NNP'),\n",
    "    ('Pusat', 'NNP'), ('Minggu', 'NNP'), ('17/11/2024', 'NUM'), ('.', '.')\n",
    "]\n",
    "\n",
    "# Parser\n",
    "parser = RegexpParser(grammar)\n",
    "tree = parser.parse(sentence)\n",
    "\n",
    "# Menampilkan hasil chunking\n",
    "tree.pretty_print()\n",
    "def bio_tagging(tree):\n",
    "    bio_tags = []\n",
    "    for subtree in tree:\n",
    "        if isinstance(subtree, nltk.Tree):\n",
    "            label = subtree.label()\n",
    "            for i, (word, tag) in enumerate(subtree.leaves()):\n",
    "                prefix = \"B-\" if i == 0 else \"I-\"\n",
    "                bio_tags.append((word, f\"{prefix}{label}\"))\n",
    "        else:\n",
    "            bio_tags.append((subtree[0], \"O\"))\n",
    "    return bio_tags\n",
    "\n",
    "# Contoh hasil\n",
    "bio_tags = bio_tagging(tree)\n",
    "print(bio_tags)"
   ]
  },
  {
   "cell_type": "code",
   "execution_count": 32,
   "metadata": {},
   "outputs": [
    {
     "name": "stdout",
     "output_type": "stream",
     "text": [
      "                                                         S                                                 \n",
      "                                    _____________________|________________________________                  \n",
      "                              ORGANIZATION                                           ORGANIZATION          \n",
      "      _____________________________|__________________________________          __________|___________      \n",
      "Menteri/NNP Pemberdayaan/NNP Perempuan/NNP dan/CC Perlindungan/NNP Anak/NNP PPPA/NNP  Arifah/NNP  Fauzi/NNP\n",
      "\n",
      "[('Menteri', 'B-ORGANIZATION'), ('Pemberdayaan', 'I-ORGANIZATION'), ('Perempuan', 'I-ORGANIZATION'), ('dan', 'I-ORGANIZATION'), ('Perlindungan', 'I-ORGANIZATION'), ('Anak', 'I-ORGANIZATION'), ('PPPA', 'B-ORGANIZATION'), ('Arifah', 'I-ORGANIZATION'), ('Fauzi', 'I-ORGANIZATION')]\n"
     ]
    }
   ],
   "source": [
    "import nltk\n",
    "from nltk.chunk import RegexpParser\n",
    "\n",
    "sentence = [\n",
    "    ('Menteri', 'NNP'), ('Pemberdayaan', 'NNP'), ('Perempuan', 'NNP'), \n",
    "    ('dan', 'CC'), ('Perlindungan', 'NNP'), ('Anak', 'NNP'), \n",
    "    ('PPPA', 'NNP'), ('Arifah', 'NNP'), ('Fauzi', 'NNP')\n",
    "]\n",
    "\n",
    "# Parser\n",
    "parser = RegexpParser(grammar)\n",
    "tree = parser.parse(sentence)\n",
    "\n",
    "# Menampilkan hasil chunking\n",
    "tree.pretty_print()\n",
    "def bio_tagging(tree):\n",
    "    bio_tags = []\n",
    "    for subtree in tree:\n",
    "        if isinstance(subtree, nltk.Tree):\n",
    "            label = subtree.label()\n",
    "            for i, (word, tag) in enumerate(subtree.leaves()):\n",
    "                prefix = \"B-\" if i == 0 else \"I-\"\n",
    "                bio_tags.append((word, f\"{prefix}{label}\"))\n",
    "        else:\n",
    "            bio_tags.append((subtree[0], \"O\"))\n",
    "    return bio_tags\n",
    "\n",
    "# Contoh hasil\n",
    "bio_tags = bio_tagging(tree)\n",
    "print(bio_tags)"
   ]
  }
 ],
 "metadata": {
  "kernelspec": {
   "display_name": "Python 3",
   "language": "python",
   "name": "python3"
  },
  "language_info": {
   "codemirror_mode": {
    "name": "ipython",
    "version": 3
   },
   "file_extension": ".py",
   "mimetype": "text/x-python",
   "name": "python",
   "nbconvert_exporter": "python",
   "pygments_lexer": "ipython3",
   "version": "3.12.4"
  }
 },
 "nbformat": 4,
 "nbformat_minor": 2
}
