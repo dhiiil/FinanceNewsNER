{
 "cells": [
  {
   "cell_type": "code",
   "execution_count": null,
   "metadata": {},
   "outputs": [],
   "source": [
    "# List tag entitas\n",
    "entities = [\n",
    "    \"DAT\", \"EVT\", \"GPE\", \"LOC\", \"PER\", \"PRD\", \n",
    "    \"PRC\", \"CRD\", \"TIM\", \"NOR\", \n",
    "    \"ECONOMIC_INDICATOR\", \"ASSET_CLASS\"\n",
    "]\n",
    "\n",
    "# Membuat filter encoding\n",
    "label_to_id = {\"O\": 0}  # Mulai dengan tag 'O'\n",
    "id_to_label = {0: \"O\"}  # Untuk decoding nanti\n",
    "current_id = 1\n",
    "\n",
    "for entity in entities:\n",
    "    label_to_id[f\"B-{entity}\"] = current_id\n",
    "    id_to_label[current_id] = f\"B-{entity}\"\n",
    "    current_id += 1\n",
    "    \n",
    "    label_to_id[f\"I-{entity}\"] = current_id\n",
    "    id_to_label[current_id] = f\"I-{entity}\"\n",
    "    current_id += 1\n",
    "\n",
    "# Hasilnya\n",
    "print(\"Label to ID Mapping:\", label_to_id)\n",
    "print(\"ID to Label Mapping:\", id_to_label)\n"
   ]
  }
 ],
 "metadata": {
  "kernelspec": {
   "display_name": "Python 3",
   "language": "python",
   "name": "python3"
  },
  "language_info": {
   "name": "python",
   "version": "3.12.4"
  }
 },
 "nbformat": 4,
 "nbformat_minor": 2
}
