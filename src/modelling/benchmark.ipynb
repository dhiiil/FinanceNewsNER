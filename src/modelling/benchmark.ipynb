{
 "cells": [
  {
   "cell_type": "code",
   "execution_count": 130,
   "metadata": {},
   "outputs": [],
   "source": [
    "from transformers import BertTokenizerFast, BertForTokenClassification, Trainer, TrainingArguments\n",
    "from sklearn.model_selection import train_test_split\n",
    "from sklearn.metrics import accuracy_score\n",
    "from datasets import Dataset, DatasetDict\n",
    "import pandas as pd\n",
    "import torch\n",
    "import ast"
   ]
  },
  {
   "cell_type": "code",
   "execution_count": 131,
   "metadata": {},
   "outputs": [],
   "source": [
    "tag_list_path = '../../data/wordlist/tag.txt'\n",
    "financeNer_path = '../../data/FinanceNewsNER.csv'"
   ]
  },
  {
   "cell_type": "markdown",
   "metadata": {},
   "source": [
    "# Dataset Prepare"
   ]
  },
  {
   "cell_type": "code",
   "execution_count": null,
   "metadata": {},
   "outputs": [],
   "source": [
    "df_financeNer = pd.read_csv(financeNer_path, index_col=0)\n",
    "# Parsing ulang kolom yang seharusnya berupa list\n",
    "df_financeNer['tokens'] = df_financeNer['tokens'].apply(ast.literal_eval)\n",
    "df_financeNer['ner_tags'] = df_financeNer['ner_tags'].apply(ast.literal_eval)"
   ]
  },
  {
   "cell_type": "code",
   "execution_count": 150,
   "metadata": {},
   "outputs": [
    {
     "data": {
      "text/html": [
       "<div>\n",
       "<style scoped>\n",
       "    .dataframe tbody tr th:only-of-type {\n",
       "        vertical-align: middle;\n",
       "    }\n",
       "\n",
       "    .dataframe tbody tr th {\n",
       "        vertical-align: top;\n",
       "    }\n",
       "\n",
       "    .dataframe thead th {\n",
       "        text-align: right;\n",
       "    }\n",
       "</style>\n",
       "<table border=\"1\" class=\"dataframe\">\n",
       "  <thead>\n",
       "    <tr style=\"text-align: right;\">\n",
       "      <th></th>\n",
       "      <th>tokens</th>\n",
       "      <th>ner_tags</th>\n",
       "    </tr>\n",
       "  </thead>\n",
       "  <tbody>\n",
       "    <tr>\n",
       "      <th>0</th>\n",
       "      <td>[Tantangan, Ketimpangan, Ekonomi]</td>\n",
       "      <td>[O, B-ECONOMIC_INDICATOR, I-ECONOMIC_INDICATOR]</td>\n",
       "    </tr>\n",
       "    <tr>\n",
       "      <th>1</th>\n",
       "      <td>[Doktor, ekonomi, dari, UNU-MERIT, Maastricht,...</td>\n",
       "      <td>[O, O, O, O, O, O, O]</td>\n",
       "    </tr>\n",
       "    <tr>\n",
       "      <th>2</th>\n",
       "      <td>[Alumni, generasi, pertama, beasiswa, LPDP, ma...</td>\n",
       "      <td>[O, O, O, O, O, I-PRD]</td>\n",
       "    </tr>\n",
       "    <tr>\n",
       "      <th>3</th>\n",
       "      <td>[Pernah, bekerja, di, ASEAN, Secretariat, Indo...</td>\n",
       "      <td>[O, O, O, B-NOR, O, O, O, O, O, I-NOR]</td>\n",
       "    </tr>\n",
       "    <tr>\n",
       "      <th>4</th>\n",
       "      <td>[Saat, ini, berkiprah, sebagai, akademisi, pen...</td>\n",
       "      <td>[O, O, O, O, O, O, O, O]</td>\n",
       "    </tr>\n",
       "  </tbody>\n",
       "</table>\n",
       "</div>"
      ],
      "text/plain": [
       "                                              tokens  \\\n",
       "0                  [Tantangan, Ketimpangan, Ekonomi]   \n",
       "1  [Doktor, ekonomi, dari, UNU-MERIT, Maastricht,...   \n",
       "2  [Alumni, generasi, pertama, beasiswa, LPDP, ma...   \n",
       "3  [Pernah, bekerja, di, ASEAN, Secretariat, Indo...   \n",
       "4  [Saat, ini, berkiprah, sebagai, akademisi, pen...   \n",
       "\n",
       "                                          ner_tags  \n",
       "0  [O, B-ECONOMIC_INDICATOR, I-ECONOMIC_INDICATOR]  \n",
       "1                            [O, O, O, O, O, O, O]  \n",
       "2                           [O, O, O, O, O, I-PRD]  \n",
       "3           [O, O, O, B-NOR, O, O, O, O, O, I-NOR]  \n",
       "4                         [O, O, O, O, O, O, O, O]  "
      ]
     },
     "execution_count": 150,
     "metadata": {},
     "output_type": "execute_result"
    }
   ],
   "source": [
    "df_financeNer.head(5)"
   ]
  },
  {
   "cell_type": "code",
   "execution_count": null,
   "metadata": {},
   "outputs": [],
   "source": [
    "unique_tags = set(tag for tags in df_financeNer[\"ner_tags\"] for tag in tags)\n",
    "\n",
    "label_to_id = {\"O\": 0}\n",
    "id_to_label = {0: \"O\"}\n",
    "current_id = 1\n",
    "\n",
    "for tag in unique_tags:\n",
    "    if tag != 'O':\n",
    "        label_to_id[tag] = current_id\n",
    "        id_to_label[current_id] = tag\n",
    "        current_id += 1"
   ]
  },
  {
   "cell_type": "code",
   "execution_count": 160,
   "metadata": {},
   "outputs": [],
   "source": [
    "df_financeNer['ner_tags'] = [list(map(lambda x: label_to_id.get(x, -1), ner_tag)) for ner_tag in df_financeNer['ner_tags']]"
   ]
  },
  {
   "cell_type": "code",
   "execution_count": 162,
   "metadata": {},
   "outputs": [],
   "source": [
    "df_train, df_test = train_test_split(df_financeNer, test_size=0.2, random_state=42)"
   ]
  },
  {
   "cell_type": "code",
   "execution_count": 163,
   "metadata": {},
   "outputs": [],
   "source": [
    "train_dataset = Dataset.from_pandas(df_train)\n",
    "test_dataset = Dataset.from_pandas(df_test)\n",
    "\n",
    "datasets = DatasetDict({\n",
    "    \"train\" : train_dataset,\n",
    "    \"test\" : test_dataset\n",
    "})"
   ]
  },
  {
   "cell_type": "markdown",
   "metadata": {},
   "source": [
    "# Modelling"
   ]
  },
  {
   "cell_type": "markdown",
   "metadata": {},
   "source": [
    "# IndoBERT"
   ]
  },
  {
   "cell_type": "code",
   "execution_count": 164,
   "metadata": {},
   "outputs": [],
   "source": [
    "# training_args = TrainingArguments(\n",
    "#     output_dir=\"./results\",          # Direktori output\n",
    "#     evaluation_strategy=\"epoch\",    # Evaluasi setiap epoch\n",
    "#     learning_rate=2e-5,             # Learning rate\n",
    "#     per_device_train_batch_size=16, # Batch size training\n",
    "#     per_device_eval_batch_size=16,  # Batch size evaluasi\n",
    "#     num_train_epochs=3,             # Jumlah epoch\n",
    "#     weight_decay=0.01,              # Regularisasi L2\n",
    "#     logging_dir=\"./logs\",           # Direktori logging\n",
    "#     logging_steps=10,\n",
    "#     save_steps=500,\n",
    "#     load_best_model_at_end=True,\n",
    "#     metric_for_best_model=\"accuracy\", # Evaluasi berdasarkan akurasi\n",
    "# )"
   ]
  },
  {
   "cell_type": "code",
   "execution_count": null,
   "metadata": {},
   "outputs": [
    {
     "ename": "NameError",
     "evalue": "name 'model' is not defined",
     "output_type": "error",
     "traceback": [
      "\u001b[1;31m---------------------------------------------------------------------------\u001b[0m",
      "\u001b[1;31mNameError\u001b[0m                                 Traceback (most recent call last)",
      "Cell \u001b[1;32mIn[165], line 8\u001b[0m\n\u001b[0;32m      4\u001b[0m     predictions \u001b[38;5;241m=\u001b[39m torch\u001b[38;5;241m.\u001b[39margmax(torch\u001b[38;5;241m.\u001b[39mtensor(logits), dim\u001b[38;5;241m=\u001b[39m\u001b[38;5;241m-\u001b[39m\u001b[38;5;241m1\u001b[39m)\n\u001b[0;32m      5\u001b[0m     \u001b[38;5;28;01mreturn\u001b[39;00m {\u001b[38;5;124m\"\u001b[39m\u001b[38;5;124maccuracy\u001b[39m\u001b[38;5;124m\"\u001b[39m: accuracy_score(labels, predictions)}\n\u001b[0;32m      7\u001b[0m trainer \u001b[38;5;241m=\u001b[39m Trainer(\n\u001b[1;32m----> 8\u001b[0m     model\u001b[38;5;241m=\u001b[39m\u001b[43mmodel\u001b[49m,\n\u001b[0;32m      9\u001b[0m     args\u001b[38;5;241m=\u001b[39mtraining_args,\n\u001b[0;32m     10\u001b[0m     train_dataset\u001b[38;5;241m=\u001b[39mencoded_dataset[\u001b[38;5;124m\"\u001b[39m\u001b[38;5;124mtrain\u001b[39m\u001b[38;5;124m\"\u001b[39m],\n\u001b[0;32m     11\u001b[0m     eval_dataset\u001b[38;5;241m=\u001b[39mencoded_dataset[\u001b[38;5;124m\"\u001b[39m\u001b[38;5;124mtest\u001b[39m\u001b[38;5;124m\"\u001b[39m],\n\u001b[0;32m     12\u001b[0m     tokenizer\u001b[38;5;241m=\u001b[39mtokenizer,\n\u001b[0;32m     13\u001b[0m     compute_metrics\u001b[38;5;241m=\u001b[39mcompute_metrics,\n\u001b[0;32m     14\u001b[0m )\n",
      "\u001b[1;31mNameError\u001b[0m: name 'model' is not defined"
     ]
    }
   ],
   "source": [
    "# # Fungsi evaluasi\n",
    "# def compute_metrics(eval_pred):\n",
    "#     logits, labels = eval_pred\n",
    "#     predictions = torch.argmax(torch.tensor(logits), dim=-1)\n",
    "#     return {\"accuracy\": accuracy_score(labels, predictions)}\n",
    "\n",
    "# trainer = Trainer(\n",
    "#     model=model,\n",
    "#     args=training_args,\n",
    "#     train_dataset=encoded_dataset[\"train\"],\n",
    "#     eval_dataset=encoded_dataset[\"test\"],\n",
    "#     tokenizer=tokenizer,\n",
    "#     compute_metrics=compute_metrics,\n",
    "# )"
   ]
  },
  {
   "cell_type": "markdown",
   "metadata": {},
   "source": [
    "### indobenchmark/indobert-base-p1"
   ]
  },
  {
   "cell_type": "code",
   "execution_count": 166,
   "metadata": {},
   "outputs": [
    {
     "name": "stderr",
     "output_type": "stream",
     "text": [
      "Some weights of BertForTokenClassification were not initialized from the model checkpoint at indobenchmark/indobert-base-p1 and are newly initialized: ['classifier.bias', 'classifier.weight']\n",
      "You should probably TRAIN this model on a down-stream task to be able to use it for predictions and inference.\n"
     ]
    }
   ],
   "source": [
    "model1_name = \"indobenchmark/indobert-base-p1\"\n",
    "tokenizer_p1 = BertTokenizerFast.from_pretrained(model1_name)\n",
    "classifier_p1 = BertForTokenClassification.from_pretrained(model1_name, num_labels=len(unique_tags))"
   ]
  },
  {
   "cell_type": "code",
   "execution_count": 167,
   "metadata": {},
   "outputs": [],
   "source": [
    "def tokenize_and_align_labels(examples):\n",
    "    # Tokenize the inputs with word-level tokenization\n",
    "    tokenized_inputs = tokenizer_p1(\n",
    "        examples[\"tokens\"], \n",
    "        is_split_into_words=True, \n",
    "        truncation=True, \n",
    "        padding=True\n",
    "    )\n",
    "    \n",
    "    labels = []\n",
    "    for i, label in enumerate(examples[\"ner_tags\"]):\n",
    "        # Get word IDs for the current batch\n",
    "        word_ids = tokenized_inputs.word_ids(batch_index=i)  \n",
    "        label_ids = []\n",
    "\n",
    "        # Align labels with tokens\n",
    "        for word_id in word_ids:\n",
    "            if word_id is None:  # Special tokens get -100\n",
    "                label_ids.append(-100)\n",
    "            elif word_id != word_ids[word_ids.index(word_id) - 1]:  # First sub-token\n",
    "                label_ids.append(label[word_id])\n",
    "            else:  # Subsequent sub-tokens get -100\n",
    "                label_ids.append(-100)\n",
    "        \n",
    "        labels.append(label_ids)\n",
    "\n",
    "    # Add labels to the tokenized inputs\n",
    "    tokenized_inputs[\"labels\"] = labels\n",
    "    return tokenized_inputs"
   ]
  },
  {
   "cell_type": "code",
   "execution_count": 168,
   "metadata": {},
   "outputs": [
    {
     "data": {
      "application/vnd.jupyter.widget-view+json": {
       "model_id": "0773cab3fa0b46239afcc8a449b43d79",
       "version_major": 2,
       "version_minor": 0
      },
      "text/plain": [
       "Map:   0%|          | 0/2241 [00:00<?, ? examples/s]"
      ]
     },
     "metadata": {},
     "output_type": "display_data"
    },
    {
     "name": "stderr",
     "output_type": "stream",
     "text": [
      "Asking to truncate to max_length but no maximum length is provided and the model has no predefined maximum length. Default to no truncation.\n"
     ]
    }
   ],
   "source": [
    "train_dataset_model1 = train_dataset.map(tokenize_and_align_labels, batched=True)"
   ]
  },
  {
   "cell_type": "code",
   "execution_count": null,
   "metadata": {},
   "outputs": [],
   "source": [
    "trainer.train()"
   ]
  },
  {
   "cell_type": "markdown",
   "metadata": {},
   "source": [
    "### indobenchmark/indobert-base-p2"
   ]
  },
  {
   "cell_type": "code",
   "execution_count": 23,
   "metadata": {},
   "outputs": [
    {
     "name": "stderr",
     "output_type": "stream",
     "text": [
      "Some weights of BertForTokenClassification were not initialized from the model checkpoint at indobenchmark/indobert-base-p2 and are newly initialized: ['classifier.bias', 'classifier.weight']\n",
      "You should probably TRAIN this model on a down-stream task to be able to use it for predictions and inference.\n"
     ]
    }
   ],
   "source": [
    "model2_name = \"indobenchmark/indobert-base-p2\"\n",
    "tokenizer_p2 = BertTokenizer.from_pretrained(model2_name)\n",
    "classifier_p2 = BertForTokenClassification.from_pretrained(model2_name, num_labels=len(label))"
   ]
  }
 ],
 "metadata": {
  "kernelspec": {
   "display_name": "Python 3",
   "language": "python",
   "name": "python3"
  },
  "language_info": {
   "codemirror_mode": {
    "name": "ipython",
    "version": 3
   },
   "file_extension": ".py",
   "mimetype": "text/x-python",
   "name": "python",
   "nbconvert_exporter": "python",
   "pygments_lexer": "ipython3",
   "version": "3.12.4"
  }
 },
 "nbformat": 4,
 "nbformat_minor": 2
}
