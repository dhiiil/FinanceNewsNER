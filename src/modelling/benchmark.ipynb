{
 "cells": [
  {
   "cell_type": "code",
   "execution_count": 3,
   "metadata": {},
   "outputs": [],
   "source": [
    "from transformers import BertTokenizer, BertForTokenClassification, Trainer, TrainingArguments\n",
    "from datasets import Dataset"
   ]
  },
  {
   "cell_type": "code",
   "execution_count": 4,
   "metadata": {},
   "outputs": [],
   "source": [
    "# Making tag list\n",
    "entities = [\n",
    "    \"DAT\", \"EVT\", \"GPE\", \"LOC\", \"PER\", \"PRD\", \n",
    "    \"PRC\", \"CRD\", \"TIM\", \"NOR\", \n",
    "    \"ECONOMIC_INDICATOR\", \"ASSET_CLASS\"\n",
    "]\n",
    "\n",
    "tag_list = [\"O\"]\n",
    "\n",
    "for entity in entities:\n",
    "    tag_list.append(f\"B-{entity}\")\n",
    "    tag_list.append(f\"I-{entity}\")\n"
   ]
  },
  {
   "cell_type": "code",
   "execution_count": 7,
   "metadata": {},
   "outputs": [],
   "source": [
    "with open('../../data/wordlist/tag.txt', 'w') as file:\n",
    "    for tag in tag_list:\n",
    "        file.write(tag + \"\\n\")"
   ]
  },
  {
   "cell_type": "markdown",
   "metadata": {},
   "source": [
    "# BERT"
   ]
  },
  {
   "cell_type": "markdown",
   "metadata": {},
   "source": [
    "# "
   ]
  }
 ],
 "metadata": {
  "kernelspec": {
   "display_name": "Python 3",
   "language": "python",
   "name": "python3"
  },
  "language_info": {
   "codemirror_mode": {
    "name": "ipython",
    "version": 3
   },
   "file_extension": ".py",
   "mimetype": "text/x-python",
   "name": "python",
   "nbconvert_exporter": "python",
   "pygments_lexer": "ipython3",
   "version": "3.12.4"
  }
 },
 "nbformat": 4,
 "nbformat_minor": 2
}
